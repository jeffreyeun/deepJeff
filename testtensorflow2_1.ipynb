{
  "nbformat": 4,
  "nbformat_minor": 0,
  "metadata": {
    "colab": {
      "name": "TF_2.x_LEC_02_Exercise_1.ipynb",
      "provenance": [],
      "collapsed_sections": []
    },
    "kernelspec": {
      "name": "python3",
      "display_name": "Python 3"
    }
  },
  "cells": [
    {
      "cell_type": "code",
      "metadata": {
        "id": "ELmvOxJmoCAa",
        "colab": {
          "base_uri": "https://localhost:8080/",
          "height": 36
        },
        "outputId": "21063bdb-129a-4834-e3c7-2d639f1bf455"
      },
      "source": [
        "import tensorflow as tf\n",
        "import numpy as np\n",
        "\n",
        "tf.__version__"
      ],
      "execution_count": 2,
      "outputs": [
        {
          "output_type": "execute_result",
          "data": {
            "application/vnd.google.colaboratory.intrinsic+json": {
              "type": "string"
            },
            "text/plain": [
              "'2.6.0'"
            ]
          },
          "metadata": {},
          "execution_count": 2
        }
      ]
    },
    {
      "cell_type": "code",
      "metadata": {
        "id": "X-jHSDCmoG3D",
        "colab": {
          "base_uri": "https://localhost:8080/"
        },
        "outputId": "f5e4f6cc-9807-40a2-d1d3-80afa20262d9"
      },
      "source": [
        "a = tf.constant(10)\n",
        "b = tf.constant(20)\n",
        "\n",
        "c = a + b\n",
        "d = (a+b).numpy()\n",
        "\n",
        "print(type(c))\n",
        "print(c)\n",
        "print(type(d), d)\n",
        "\n",
        "d_numpy_to_tensor = tf.convert_to_tensor(d)\n",
        "\n",
        "print(type(d_numpy_to_tensor))\n",
        "print(d_numpy_to_tensor)"
      ],
      "execution_count": 3,
      "outputs": [
        {
          "output_type": "stream",
          "name": "stdout",
          "text": [
            "<class 'tensorflow.python.framework.ops.EagerTensor'>\n",
            "tf.Tensor(30, shape=(), dtype=int32)\n",
            "<class 'numpy.int32'> 30\n",
            "<class 'tensorflow.python.framework.ops.EagerTensor'>\n",
            "tf.Tensor(30, shape=(), dtype=int32)\n"
          ]
        }
      ]
    },
    {
      "cell_type": "code",
      "metadata": {
        "id": "Hm6Dv7FmokPQ"
      },
      "source": [
        ""
      ],
      "execution_count": null,
      "outputs": []
    }
  ]
}